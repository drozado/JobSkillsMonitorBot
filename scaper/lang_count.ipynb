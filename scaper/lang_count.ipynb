{
 "cells": [
  {
   "cell_type": "code",
   "execution_count": 10,
   "id": "mighty-still",
   "metadata": {},
   "outputs": [],
   "source": [
    "import pandas as pd\n",
    "from pathlib import Path\n",
    "import unicodedata\n",
    "import ast\n",
    "import numpy as np"
   ]
  },
  {
   "cell_type": "code",
   "execution_count": 11,
   "id": "incorporate-backup",
   "metadata": {},
   "outputs": [],
   "source": [
    "lang_df = pd.read_csv(\"data/fixed_langs.csv\")"
   ]
  },
  {
   "cell_type": "code",
   "execution_count": 45,
   "id": "duplicate-monitor",
   "metadata": {},
   "outputs": [],
   "source": [
    "scraped_df = pd.read_csv(\"data/scraped.csv\", comment=\"#\")"
   ]
  },
  {
   "cell_type": "code",
   "execution_count": 13,
   "id": "happy-tucson",
   "metadata": {},
   "outputs": [],
   "source": [
    "count_df = pd.DataFrame()\n",
    "count_df[\"lang\"] = lang_df[\"fixed\"]; count_df[\"count\"] = 0"
   ]
  },
  {
   "cell_type": "code",
   "execution_count": 14,
   "id": "romantic-share",
   "metadata": {},
   "outputs": [
    {
     "data": {
      "text/html": [
       "<div>\n",
       "<style scoped>\n",
       "    .dataframe tbody tr th:only-of-type {\n",
       "        vertical-align: middle;\n",
       "    }\n",
       "\n",
       "    .dataframe tbody tr th {\n",
       "        vertical-align: top;\n",
       "    }\n",
       "\n",
       "    .dataframe thead th {\n",
       "        text-align: right;\n",
       "    }\n",
       "</style>\n",
       "<table border=\"1\" class=\"dataframe\">\n",
       "  <thead>\n",
       "    <tr style=\"text-align: right;\">\n",
       "      <th></th>\n",
       "      <th>lang</th>\n",
       "      <th>count</th>\n",
       "    </tr>\n",
       "  </thead>\n",
       "  <tbody>\n",
       "    <tr>\n",
       "      <th>0</th>\n",
       "      <td>A.NET</td>\n",
       "      <td>0</td>\n",
       "    </tr>\n",
       "    <tr>\n",
       "      <th>1</th>\n",
       "      <td>A-0 System</td>\n",
       "      <td>0</td>\n",
       "    </tr>\n",
       "    <tr>\n",
       "      <th>2</th>\n",
       "      <td>A+</td>\n",
       "      <td>0</td>\n",
       "    </tr>\n",
       "    <tr>\n",
       "      <th>3</th>\n",
       "      <td>ABAP</td>\n",
       "      <td>0</td>\n",
       "    </tr>\n",
       "    <tr>\n",
       "      <th>4</th>\n",
       "      <td>ABC</td>\n",
       "      <td>0</td>\n",
       "    </tr>\n",
       "    <tr>\n",
       "      <th>...</th>\n",
       "      <td>...</td>\n",
       "      <td>...</td>\n",
       "    </tr>\n",
       "    <tr>\n",
       "      <th>680</th>\n",
       "      <td>ZetaLisp</td>\n",
       "      <td>0</td>\n",
       "    </tr>\n",
       "    <tr>\n",
       "      <th>681</th>\n",
       "      <td>Zig</td>\n",
       "      <td>0</td>\n",
       "    </tr>\n",
       "    <tr>\n",
       "      <th>682</th>\n",
       "      <td>ZOPL</td>\n",
       "      <td>0</td>\n",
       "    </tr>\n",
       "    <tr>\n",
       "      <th>683</th>\n",
       "      <td>ZPL</td>\n",
       "      <td>0</td>\n",
       "    </tr>\n",
       "    <tr>\n",
       "      <th>684</th>\n",
       "      <td>Z++</td>\n",
       "      <td>0</td>\n",
       "    </tr>\n",
       "  </tbody>\n",
       "</table>\n",
       "<p>685 rows × 2 columns</p>\n",
       "</div>"
      ],
      "text/plain": [
       "           lang  count\n",
       "0        A.NET       0\n",
       "1    A-0 System      0\n",
       "2           A+       0\n",
       "3          ABAP      0\n",
       "4           ABC      0\n",
       "..          ...    ...\n",
       "680    ZetaLisp      0\n",
       "681         Zig      0\n",
       "682        ZOPL      0\n",
       "683         ZPL      0\n",
       "684         Z++      0\n",
       "\n",
       "[685 rows x 2 columns]"
      ]
     },
     "execution_count": 14,
     "metadata": {},
     "output_type": "execute_result"
    }
   ],
   "source": [
    "count_df"
   ]
  },
  {
   "cell_type": "code",
   "execution_count": 125,
   "id": "offensive-fence",
   "metadata": {},
   "outputs": [],
   "source": []
  },
  {
   "cell_type": "code",
   "execution_count": 150,
   "id": "completed-transaction",
   "metadata": {},
   "outputs": [],
   "source": [
    "def fix_content(x):\n",
    "    \n",
    "    if type(x) != type(np.nan):\n",
    "      \n",
    "        arr = []\n",
    "        for i in ast.literal_eval(x):\n",
    "            arr.append(unicodedata.normalize(\"NFKD\", i).strip())\n",
    "        return np.asarray(arr).flatten()\n",
    "scraped_df[\"fixed_content\"] = scraped_df[\"main_content\"].transform(fix_content)"
   ]
  },
  {
   "cell_type": "code",
   "execution_count": 185,
   "id": "instructional-assignment",
   "metadata": {},
   "outputs": [],
   "source": [
    "scraped_df = scraped_df.dropna(subset=[\"fixed_content\"])"
   ]
  },
  {
   "cell_type": "code",
   "execution_count": 177,
   "id": "knowing-sunset",
   "metadata": {},
   "outputs": [],
   "source": [
    "all_strings = np.hstack(scraped_df[\"fixed_content\"].values)"
   ]
  },
  {
   "cell_type": "code",
   "execution_count": 178,
   "id": "identified-lawsuit",
   "metadata": {},
   "outputs": [
    {
     "data": {
      "text/plain": [
       "(144873,)"
      ]
     },
     "execution_count": 178,
     "metadata": {},
     "output_type": "execute_result"
    }
   ],
   "source": [
    "all_strings.shape"
   ]
  },
  {
   "cell_type": "code",
   "execution_count": 183,
   "id": "controlling-portsmouth",
   "metadata": {},
   "outputs": [
    {
     "ename": "TypeError",
     "evalue": "ufunc 'isnan' not supported for the input types, and the inputs could not be safely coerced to any supported types according to the casting rule ''safe''",
     "output_type": "error",
     "traceback": [
      "\u001b[1;31m---------------------------------------------------------------------------\u001b[0m",
      "\u001b[1;31mTypeError\u001b[0m                                 Traceback (most recent call last)",
      "\u001b[1;32m<ipython-input-183-9f288edbc4f5>\u001b[0m in \u001b[0;36m<module>\u001b[1;34m\u001b[0m\n\u001b[1;32m----> 1\u001b[1;33m \u001b[0mnp\u001b[0m\u001b[1;33m.\u001b[0m\u001b[0misnan\u001b[0m\u001b[1;33m(\u001b[0m\u001b[0mall_strings\u001b[0m\u001b[1;33m)\u001b[0m\u001b[1;33m\u001b[0m\u001b[1;33m\u001b[0m\u001b[0m\n\u001b[0m",
      "\u001b[1;31mTypeError\u001b[0m: ufunc 'isnan' not supported for the input types, and the inputs could not be safely coerced to any supported types according to the casting rule ''safe''"
     ]
    }
   ],
   "source": [
    "np.(all_strings)"
   ]
  },
  {
   "cell_type": "code",
   "execution_count": 182,
   "id": "suffering-owner",
   "metadata": {},
   "outputs": [
    {
     "data": {
      "text/plain": [
       "'mahitahi hauora'"
      ]
     },
     "execution_count": 182,
     "metadata": {},
     "output_type": "execute_result"
    }
   ],
   "source": [
    "all_strings[0].lower()"
   ]
  },
  {
   "cell_type": "code",
   "execution_count": 156,
   "id": "electric-sword",
   "metadata": {},
   "outputs": [
    {
     "data": {
      "text/plain": [
       "array([array(['MAHITAHI HAUORA', '',\n",
       "       'We are looking for an experienced Information Systems Facilitator who is comfortable in supporting internal and external customers across a range of platforms and programs and who has a flare for identifying and implementing improvement initiatives in IT functionality and systems that will enable enhanced quality, productivity, simplicity and efficiency for our users.',\n",
       "       '', 'About Mahitahi Hauora', '',\n",
       "       'Mahitahi Hauora is the primary health entity for Te Tai Tokerau. It is a charitable social enterprise with a vision for everyone in Tai Tokerau to have an equitable opportunity to receive the care and wellbeing support they need, in the way that works for them, and to be at the centre of decisions about their care and wellbeing.',\n",
       "       '',\n",
       "       'Mahitahi Hauora supports Primary Healthcare providers including General Practices and Māori Health Providers to deliver care and to look after the wellbeing of their communities and whānau. We also deliver care and wellbeing support directly to the community and whānau.',\n",
       "       '', 'The Position', '',\n",
       "       'We are looking for an Information Systems Facilitator who is experienced in:',\n",
       "       '', '',\n",
       "       'Delivering effective and timely IT support to Internal and External customers',\n",
       "       '',\n",
       "       'Identifying system and user deficiencies and providing realistic solutions and implementable improvements',\n",
       "       '',\n",
       "       'Working collaboratively to ensure organisational IT functionality on a daily basis',\n",
       "       '',\n",
       "       'Supporting with Information Systems infrastructure and planning',\n",
       "       '', 'Building and maintaining relationships', '',\n",
       "       'This role has plenty of variety and will see you working alongside and supporting the CIO and other members of the Information Systems team in enabling the organisation’s users to deliver their work through fit for purpose information systems, telecommunications technology, and applications that support quality, efficiency, and ease of use.',\n",
       "       '', 'To be considered for this position you must have:', '', '',\n",
       "       '5 years’ experience in an Information Systems role', '',\n",
       "       'Proven and recent experience in supporting internal IS programs and processes',\n",
       "       '',\n",
       "       'Demonstrable experience in understanding of Information systems and delivery of services',\n",
       "       '',\n",
       "       'Great organisational skills and an ability to establish priorities and meet demands and deadlines',\n",
       "       '',\n",
       "       'Proven interpersonal skills in developing constructive and sustainable relationships',\n",
       "       '', 'Desirable is a qualification or IS courses.', '',\n",
       "       'An advantage would be an understanding of the primary health care sector and Medtech practice management systems.',\n",
       "       '',\n",
       "       'A detailed position description and Application for Employment form can be downloaded from our website https://www.mahitahihauora.co.nz/vacancies/Mahitahi-Hauora-PHE-Information-Systems-Facilitator.',\n",
       "       '',\n",
       "       'You must have a current NZ work visa and the legal right to work in NZ.',\n",
       "       '',\n",
       "       'If you have the skills for this role and passion to be part of this exciting team, please apply by forwarding your cover letter, CV and Application for Employment Form to HR Assistant at',\n",
       "       'hr@mahitahihauora.co.nz', '.', '',\n",
       "       'PLEASE DO NOT APPLY THROUGH SEEK.  APPLICATIONS ONLY RECEIVED BY FOLLOWING THE ABOVE INSTRUCTIONS.',\n",
       "       '', 'Applications Close: Monday 5th April 2021'], dtype='<U370'),\n",
       "       array(['Silverstripe is on the hunt for a Technical Director to join our Professional Services team.',\n",
       "       'The Technical Director is an exciting new role for the company, working closely alongside our Delivery Directors and Creative Director to complete our Bespoke Leadership team. The Technical Director will report directly to the Head of Client Strategy & Delivery and be responsible for providing technical oversight and direction over the products delivered by our teams, while ensuring continued adherence to best practice.',\n",
       "       'Your expert technical knowledge will allow you to deliver a technology roadmap for our Professional Services business unit and oversee the successful outcome of any new technical initiatives which are introduced. You will actively keep up-to-date with new tools and technologies, and will help drive the improvement of our existing internal tools and processes, while identifying any opportunities for innovation. A significant part of the role will be working with our teams to create solutions for clients across New Zealand.',\n",
       "       'As our Technical Director, you will provide technical leadership to all of our Principal Developers and Solution Architects, while also helping them to identify development opportunities both for themselves and other members of our delivery squads. You will work with key staff members including the Lead Product Architect, to champion technical knowledge sharing and innovation across the business to ensure Silverstripe’s technical offering continues to grow and evolve. This role will have line management responsibilities for our fantastic Solution Architects.',\n",
       "       'Who are we looking for?',\n",
       "       'We need a fantastic team player who is hands-on, while being knowledgeable and passionate about what they do. You’ll be open-minded and curious enough to take on and consider other people’s ideas and suggestions.',\n",
       "       'In addition to this you will:',\n",
       "       'Have demonstrable, advanced knowledge of the Silverstripe CMS and core modules, PHP, Javascript and HTML/CSS',\n",
       "       'Strong knowledge of web infrastructure, operations and Cloud computing technologies such as Amazon Web Services',\n",
       "       'Strong knowledge of software testing systems design, implementation, best practices and methodology',\n",
       "       'Have proven leadership capability and be confident identifying areas for development in others',\n",
       "       'Be able to create and maintain strong relationships both within and outside of the organisation',\n",
       "       'Have the ability to understand the strategic goals of a business and set objectives that align with these goals',\n",
       "       'Readily learn and adopt new technologies',\n",
       "       'Have exceptional written and verbal communication skills, and the ability to effectively communicate technical concepts to non-technical people',\n",
       "       'Additional requirements',\n",
       "       'Experience managing individuals and teams from a technical perspective',\n",
       "       'Experience working in a vendor or digital agency',\n",
       "       'Experience mentoring/coaching individuals and teams',\n",
       "       '10+ years experience developing multi-tiered software solutions',\n",
       "       'Experience developing with PHP/Javascript/HTML/CSS in a commercial environment is essential',\n",
       "       'How to Apply',\n",
       "       'All applications must be submitted through the Silverstripe website or by visiting silverstripe.workable.com.',\n",
       "       'Applications received through any other channel and without a CV & cover letter will not be accepted.',\n",
       "       'Applicants for this position should have NZ residency or a valid NZ work visa.',\n",
       "       'BENEFITS', 'Why Silverstripe?', 'We have an awesome culture',\n",
       "       'We want to create an environment that has all the excitement and intellectual stimulation of a startup but with a sensible business model. Silverstripe is big on building trusting relationships, using technology to solve important problems, and helping each other reach our goals. We actively foster a culture that supports our core values of honesty over comfort; adaptability over guarantees; collaboration over control; continuous improvement over perfection; and camaraderie over corporate culture.',\n",
       "       \"We're also passionate about creating an inclusive workplace that promotes and values diversity. Companies that are diverse in age, gender identity, race, sexual orientation, physical or mental ability, ethnicity and perspective are proven to deliver better solutions.\",\n",
       "       'We take professional development seriously',\n",
       "       'There are plenty of opportunities for learning - we pay for Silverstripers to attend conferences and training; we hold monthly Hackdays; and we encourage knowledge sharing through regular internal events like \"Show & Tell\" and \"Lunch & Learn\". You\\'ll be working alongside people who\\'ll share their love of the craft and help you grow your skills.',\n",
       "       'We have an adaptive, remote-inclusive workplace',\n",
       "       'We’re a family-friendly company and strive to support our staff’s work-life balance. All Silverstripers are given the freedom to choose when and where they work - whether it be from one of our awesome offices or the comfort of their own home. We believe in providing our staff with the best tools to do their jobs safely and efficiently, and even offer an at-home desk benefit, which contributes to the purchase of an ergonomically-sound desk.'],\n",
       "      dtype='<U564'),\n",
       "       array(['About BPD Zenith',\n",
       "       'BPD Zenith is a leading global IBM Premier Partner specialising in Asset Management. With operations in the UK, Canada, US, Australia, New Zealand, Singapore and Macau, we provide professional services to global and local Clients.',\n",
       "       'Your new role:',\n",
       "       'We are seeking an experienced, confident, self-starter Maximo Technical Consultant to assist us with our Maximo projects and support activities. It is expected that you will have proven experience in Maximo Java / J2EE development work or projects, and that you have at least 3 years Maximo experience across multiple industries.  This role is a true consulting role which requires flexibility and willingness to work on client site (when restrictions lift) for extended periods of time.',\n",
       "       'Your key responsibilities will include:',\n",
       "       'installing Maximo and its add-on components',\n",
       "       'upgrading Maximo to the latest versions',\n",
       "       'reviewing Functional Requirements and developing and delivering technical solutions in Maximo',\n",
       "       \"educating customers on Maximo's technical features and capabilities\",\n",
       "       'configuring the Maximo Application using application designer, workflows, and data import facilities',\n",
       "       \"customising Maximo through Java Class extensions or new Java Classes to meet Customer's needs\",\n",
       "       'developing interfaces to other systems such as Finance or GIS systems',\n",
       "       'writing complex SQL Statements',\n",
       "       'using Oracle and SQL Databases and have the requisite skills',\n",
       "       'administrative tasks including support logs, timesheets and expenses to support the company’s invoicing and payroll processes',\n",
       "       'sharing your learnings by completing post project reports and other reports as required',\n",
       "       'preparing technical papers for technical society, conferences, industrial publications and customers',\n",
       "       'desire and ability to coach junior team members',\n",
       "       'Ideally you will have', 'a tertiary qualification',\n",
       "       'IBM Maximo V7.6 Deployment Professional Certification, or willing to achieve this within the first 6 months of employment',\n",
       "       'A minimum of 3 years Maximo knowledge in V6 and above',\n",
       "       'A minimum of 2-3 years Java/J2EE knowledge',\n",
       "       'SQL skills and a good working knowledge of relational databases',\n",
       "       'Experience working in and with large corporations',\n",
       "       'Knowledge of other Maximo Add-Ons, such as Linear, Spatial, Transportation, Oil & Gas, Mobile, ITSM, etc',\n",
       "       'Some knowledge of WebSphere',\n",
       "       'Experience in using WebServices with Maximo',\n",
       "       'Experience with Actuate / BIRT / Cognos report development',\n",
       "       'Experience in using Maximo mobility applications',\n",
       "       'Ability to travel throughout New Zealand and potentially internationally if required, including ability to relocate for periods of time',\n",
       "       'Ability to travel regularly (Client work is often delivered on-site over many months)',\n",
       "       'A highly motivated approach, with pride in your work and the ability to work unsupervised',\n",
       "       'The ability to work as a team player, willing to contribute to improvements to our products and services',\n",
       "       'Excellent communication skills – both written and oral',\n",
       "       'Able to undertake police check and unrestricted right to work in New Zealand',\n",
       "       'We will offer you:',\n",
       "       'A commitment to developing you so you can grow with the company',\n",
       "       'Training and development to improve your skills',\n",
       "       'Competitive salary package including bonus',\n",
       "       'A professional, friendly, inclusive work place',\n",
       "       'Flexible working options including working from home',\n",
       "       'If this sounds like you and you would like more information on the role, please apply through Seek.  Please include your',\n",
       "       'CV', 'along with a', 'cover letter',\n",
       "       'outlining why you believe you would be a good fit for this role.  The recruitment process will be conducted in line with our Covid Safe Plan.'],\n",
       "      dtype='<U487'),\n",
       "       ...,\n",
       "       array(['Lead Consultant', '', '66915BR', '', 'Job Description', '', '',\n",
       "       'About Us:', '', '',\n",
       "       'Infosys is a global leader in next-generation digital services and consulting. We enable clients in 46 countries to navigate their digital transformation. With over three decades of experience in managing the systems and workings of global enterprises, we expertly steer our clients through their digital journey.',\n",
       "       '',\n",
       "       'We do it by enabling the enterprise with an AI-powered core that helps prioritize the execution of change. We also empower the business with agile digital at scale to deliver unprecedented levels of performance and customer delight. Our always-on learning agenda drives their continuous improvement through building and transferring digital skills, expertise, and ideas from our innovation ecosystem.',\n",
       "       '', '',\n",
       "       'Visit www.infosys.com  to see how Infosys (NYSE: INFY) can help your enterprise navigate your next.',\n",
       "       '', 'Role:', '',\n",
       "       'Functional consultant for Finacle corporate banking product, Lending module',\n",
       "       '', 'Job Title:', '', 'Principal consultant', '',\n",
       "       'Short Description: Work on a variety of critical client engagements with some of Infosys largest and most successful clients in New Zealand. New Zealand citizens and PR holders are encouraged to apply. We are unable to sponsor at this time.',\n",
       "       '',\n",
       "       'Project Context: Maintenance and Support of FINACLE implementations for large banks.',\n",
       "       '',\n",
       "       'Must have experience of FINACLE CORPORATE BANKING (Deposits, Loans, Payments & Liquidity management)/FINACLE OCH /FINACLE CIF application - implementation, support.',\n",
       "       '', 'Skill:', '',\n",
       "       'Strong implementation skills with 10+ years of experience of corporate banking implementation Hands-on knowledge on Finacle corporate core – Lending module related customizations Good functional knowledge of Finacle corporate lending moduleGood industry knowledge of corporate lending module with hands on experience in designing, solutioning and managing complex corporate lending products.  Knowledge of Finacle scripting, Finacle integrator, Finacle deployment and Finacle solution delivery platform tools.',\n",
       "       '', 'Location:', '', 'Auckland – New Zealand', '', 'Years of EXP:',\n",
       "       '',\n",
       "       '10+ years of experience with 5+ years’ experience in Finacle corporate core – lending module.',\n",
       "       '', 'Roles and Responsibilities:', '', '',\n",
       "       'As a principal consultant, the candidate will be required to provide solution to real life corporate banking problems in the lending module. Primary responsibility will also include to implement and assist in the Finacle corporate core banking – lending module implementations and support. Candidate should have deep knowledge of local regulatory guidelines in the lending domain, that are applicable to the corporate banking world.',\n",
       "       '',\n",
       "       'The candidate should also have hands on knowledge in implementing the Finacle core banking product. Candidate will be managing the functional work stream and providing solution to real life problems, will help the bank in configuring new products in Finacle and will also provide solution to requirements which may not be available out of the box in the product. Such requirements may require new solutions that are to be built using proprietary tools; hence, knowledge of Finacle scripting and associated build tools will be required.',\n",
       "       '', '', 'Skill/Competency Requirements:', '', '',\n",
       "       'Support high customer satisfaction - Interface with customer for issue resolution, provide status updates',\n",
       "       '',\n",
       "       'Appreciate Finacle application architecture, the interfaces and existing architecture, the data complexities of Finacle applications implemented',\n",
       "       '',\n",
       "       'Strong attention to detail and outstanding analytical and Problem-solving skills',\n",
       "       '', 'Knowledge of PL SQL, i', '',\n",
       "       'Reports or Jasper is an added advantage.Good industry knowledge of corporate lending module with hands on experience in designing, solutioning and managing complex corporate lending products. Logical thinking and problem-solving skills along with an ability to collaborate',\n",
       "       '', 'Knowledge of SDLC and agile methodologies', '',\n",
       "       'Knowledge of Finacle scripting, Finacle integrator, Finacle deployment and Finacle solution delivery platform tools.',\n",
       "       '', '',\n",
       "       'Essential – Knowledge of Finacle corporate core banking – Lending module.',\n",
       "       '',\n",
       "       'Preferred – Having implementation experience of corporate lending module in any of the ANZ region banks.',\n",
       "       '', 'Additional skills:', '',\n",
       "       'Infosys is an equal opportunity employer and positively encourages applications from suitably qualified and eligible candidates regardless of gender or other attribute covered by equal opportunity legislation.',\n",
       "       '',\n",
       "       'Please note in order to protect the interest of all parties involved in the recruitment process, Infosys does not accept any unsolicited resumes from third party vendors. In the absence of a signed agreement any submission will be deemed as non-binding and Infosys explicitly reserves the right to pursue and hire the submitted profile.  All recruitment activity must be coordinated through the Talent Acquisition department.',\n",
       "       '',\n",
       "       'All aspects of employment at Infosys are based on merit, competence and performance. We are committed to embracing diversity and creating an inclusive environment for all employees. Infosys is proud to be an equal opportunity employer.',\n",
       "       '', '', 'Country', '', 'New Zealand', '',\n",
       "       'State / Region / Province', '', 'Auckland', '', 'Work Location',\n",
       "       '', 'Auckland', '', 'Interest Group', '', 'Infosys Limited', '',\n",
       "       'Skillset', '', 'Domain|Banking|Banking - ALL', '', 'Company', '',\n",
       "       'Infy NewZealand'], dtype='<U535'),\n",
       "       array(['', '', '', '', '', '', '', 'Senior Android Developer', '',\n",
       "       'Opportunity knocks...', '', '',\n",
       "       'We are looking for a Senior Android Developer to join this remarkable kiwi tech company. You may also be an intermediate level developer exploring the next step in your career.',\n",
       "       '',\n",
       "       'Amazing opportunity to work in a high performing global team with an outstanding team culture.',\n",
       "       '',\n",
       "       'Work in a well-established team along with some of the best developers in NZ!',\n",
       "       '', 'The inside word...', '', '',\n",
       "       \"This position will work closely with the product and design teams to ensure the development initiatives are aligning with the customers' needs / outcomes.\",\n",
       "       '',\n",
       "       'You will become a vital part of the team by writing exemplary code, sharing your knowledge to other developers and provide technical guidance to the Android teams.',\n",
       "       '',\n",
       "       'Being the best coder might be your aim, but being a team-player and thinking about how to achieve company goals through your expertise will be key.',\n",
       "       '', \"Why you're special...\", '', '',\n",
       "       \"You have around 4-5+ years' Android development experience and at least 1 year of commercial Kotlin experience or the outstanding Java experience and the desire to learn Kotlin.\",\n",
       "       '',\n",
       "       'You are an exceptional coder who understands modern mobile app designs and development best practices.',\n",
       "       '',\n",
       "       'Enthusiasm about working in an Agile environment is necessary.',\n",
       "       '', 'You are collaborative and enjoy a social team culture.', '',\n",
       "       'You might not be looking to become a lead in the future, but mentoring / coaching junior developers comes naturally.',\n",
       "       '',\n",
       "       'Any personal coding projects or ways to show a genuine passion for technology is highly advantageous.',\n",
       "       '', \"And... What's in it for you?\", '', '',\n",
       "       'This is an amazing opportunity to work for a New Zealand organisation with a global presence.',\n",
       "       '',\n",
       "       'Great Auckland Central Location. Games room, private gym, social clubs and sports teams to join!',\n",
       "       '', 'Amazing benefits including shares.', '',\n",
       "       \"Let's get started! Apply now or call Ryan at Talent on\",\n",
       "       '0210363757', '.', '', '', '', '', '', 'Opportunity knocks...',\n",
       "       'We are looking for a Senior Android Developer to join this remarkable kiwi tech company. You may also be an intermediate level developer exploring the next step in your career.',\n",
       "       'Amazing opportunity to work in a high performing global team with an outstanding team culture.',\n",
       "       'Work in a well-established team along with some of the best developers in NZ!',\n",
       "       'The inside word...',\n",
       "       \"This position will work closely with the product and design teams to ensure the development initiatives are aligning with the customers' needs / outcomes.\",\n",
       "       'You will become a vital part of the team by writing exemplary code, sharing your knowledge to other developers and provide technical guidance to the Android teams.',\n",
       "       'Being the best coder might be your aim, but being a team-player and thinking about how to achieve company goals through your expertise will be key.',\n",
       "       \"Why you're special...\",\n",
       "       \"You have around 4-5+ years' Android development experience and at least 1 year of commercial Kotlin experience or the outstanding Java experience and the desire to learn Kotlin.\",\n",
       "       'You are an exceptional coder who understands modern mobile app designs and development best practices.',\n",
       "       'Enthusiasm about working in an Agile environment is necessary.',\n",
       "       'You are collaborative and enjoy a social team culture.',\n",
       "       'You might not be looking to become a lead in the future, but mentoring / coaching junior developers comes naturally.',\n",
       "       'Any personal coding projects or ways to show a genuine passion for technology is highly advantageous.',\n",
       "       \"And... What's in it for you?\",\n",
       "       'This is an amazing opportunity to work for a New Zealand organisation with a global presence.',\n",
       "       'Great Auckland Central Location. Games room, private gym, social clubs and sports teams to join!',\n",
       "       'Amazing benefits including shares.',\n",
       "       \"Let's get started! Apply now or call Ryan at Talent on\",\n",
       "       '0210363757', '.'], dtype='<U177'),\n",
       "       array(['', '', '', '', '', '', '',\n",
       "       'Senior PHP / JavaScript Developer (open source, 100% remote)', '',\n",
       "       '', 'The opportunity:', '',\n",
       "       'Our client is an innovative local software vender that provides a 100% open source analytics platform in over 190 countries. They are now looking for an experienced Senior Full Stack Developer to work independently on their Cloud-hosted, analytics SaaS service, their Analytics core platform software (Matomo) and all their products.',\n",
       "       '', 'The role:', '',\n",
       "       \"They have challenges to solve and need you! You will be involved with the maintenance and improvement of their products using PHP and JavaScript, contribute to the overall user experience of our client's open source analytics service, take ownership of technical issues and refining their website and web design. This is 100% working remotely role.\",\n",
       "       '', 'To be successful in this role you MUST have:', '', '',\n",
       "       '5+ years commercial experience in product development, security and usable interface design',\n",
       "       '',\n",
       "       '3+ years in PHP and JavaScript application development (full-stack)',\n",
       "       '', 'Strong experience using databases and SQL', '',\n",
       "       'Skilled at writing automated tests and reviewing code', '',\n",
       "       'Strong analytical skills and a passion for it to understand complex business logic',\n",
       "       '', 'Familiar with Linux command line', '',\n",
       "       \"Ideally familiar in developing with WordPress (used by our client's website)\",\n",
       "       '', 'Strong communication skills', '',\n",
       "       'Ability to work independently', '', '', 'How to apply:', '',\n",
       "       'Please apply below if this exciting opportunity sounds like you. Any questions? Email us at',\n",
       "       'enquiries@twoticks.co.nz', 'for further information', '', '', '',\n",
       "       '', '', '', 'The opportunity:', '',\n",
       "       'Our client is an innovative local software vender that provides a 100% open source analytics platform in over 190 countries. They are now looking for an experienced Senior Full Stack Developer to work independently on their Cloud-hosted, analytics SaaS service, their Analytics core platform software (Matomo) and all their products.',\n",
       "       '', 'The role:', '',\n",
       "       \"They have challenges to solve and need you! You will be involved with the maintenance and improvement of their products using PHP and JavaScript, contribute to the overall user experience of our client's open source analytics service, take ownership of technical issues and refining their website and web design. This is 100% working remotely role.\",\n",
       "       '', 'To be successful in this role you MUST have:', '',\n",
       "       '5+ years commercial experience in product development, security and usable interface design',\n",
       "       '',\n",
       "       '3+ years in PHP and JavaScript application development (full-stack)',\n",
       "       '', 'Strong experience using databases and SQL', '',\n",
       "       'Skilled at writing automated tests and reviewing code', '',\n",
       "       'Strong analytical skills and a passion for it to understand complex business logic',\n",
       "       '', 'Familiar with Linux command line', '',\n",
       "       \"Ideally familiar in developing with WordPress (used by our client's website)\",\n",
       "       '', 'Strong communication skills', '',\n",
       "       'Ability to work independently', '', 'How to apply:', '',\n",
       "       'Please apply below if this exciting opportunity sounds like you. Any questions? Email us at',\n",
       "       'enquiries@twoticks.co.nz', 'for further information'],\n",
       "      dtype='<U348')], dtype=object)"
      ]
     },
     "execution_count": 156,
     "metadata": {},
     "output_type": "execute_result"
    }
   ],
   "source": [
    "all_strings.values.flatten()"
   ]
  },
  {
   "cell_type": "code",
   "execution_count": 189,
   "id": "fleet-submission",
   "metadata": {
    "scrolled": true
   },
   "outputs": [
    {
     "name": "stderr",
     "output_type": "stream",
     "text": [
      "C:\\Users\\sloth\\anaconda3\\envs\\scraper\\lib\\site-packages\\pandas\\core\\indexing.py:1637: SettingWithCopyWarning: \n",
      "A value is trying to be set on a copy of a slice from a DataFrame\n",
      "\n",
      "See the caveats in the documentation: https://pandas.pydata.org/pandas-docs/stable/user_guide/indexing.html#returning-a-view-versus-a-copy\n",
      "  self._setitem_single_block(indexer, value, name)\n"
     ]
    }
   ],
   "source": [
    "for i in count_df.index:\n",
    "    lang = count_df[\"lang\"].loc[i].lower()\n",
    "    for j in all_strings:\n",
    "        if j:\n",
    "            if lang in j.lower():\n",
    "                count_df[\"count\"].loc[i] += 1\n",
    "    "
   ]
  },
  {
   "cell_type": "code",
   "execution_count": 129,
   "id": "introductory-threshold",
   "metadata": {},
   "outputs": [
    {
     "data": {
      "text/plain": [
       "RangeIndex(start=0, stop=685, step=1)"
      ]
     },
     "execution_count": 129,
     "metadata": {},
     "output_type": "execute_result"
    }
   ],
   "source": [
    "count_df.index"
   ]
  },
  {
   "cell_type": "code",
   "execution_count": 139,
   "id": "julian-anaheim",
   "metadata": {},
   "outputs": [
    {
     "name": "stdout",
     "output_type": "stream",
     "text": [
      "a.net \n"
     ]
    }
   ],
   "source": [
    "print(count_df[\"lang\"].loc[0].lower())"
   ]
  },
  {
   "cell_type": "code",
   "execution_count": null,
   "id": "ecological-tract",
   "metadata": {},
   "outputs": [],
   "source": []
  }
 ],
 "metadata": {
  "kernelspec": {
   "display_name": "Python 3",
   "language": "python",
   "name": "python3"
  },
  "language_info": {
   "codemirror_mode": {
    "name": "ipython",
    "version": 3
   },
   "file_extension": ".py",
   "mimetype": "text/x-python",
   "name": "python",
   "nbconvert_exporter": "python",
   "pygments_lexer": "ipython3",
   "version": "3.7.10"
  }
 },
 "nbformat": 4,
 "nbformat_minor": 5
}
